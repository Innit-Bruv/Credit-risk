{
 "cells": [
  {
   "cell_type": "code",
   "execution_count": 18,
   "id": "1aa47b36-9b30-439e-85ea-59e5fc7b6622",
   "metadata": {
    "scrolled": true
   },
   "outputs": [],
   "source": [
    "import pandas as pd\n",
    "df = pd.read_csv(\"../data/application_train.csv\")\n",
    "\n",
    "\n",
    "\n"
   ]
  },
  {
   "cell_type": "code",
   "execution_count": 21,
   "id": "3b2e23b2-0f65-41ff-b282-7fdf6c7074e0",
   "metadata": {},
   "outputs": [
    {
     "name": "stdout",
     "output_type": "stream",
     "text": [
      "Top columns with missing values:\n",
      " COMMONAREA_AVG              0.698723\n",
      "COMMONAREA_MODE             0.698723\n",
      "COMMONAREA_MEDI             0.698723\n",
      "NONLIVINGAPARTMENTS_MEDI    0.694330\n",
      "NONLIVINGAPARTMENTS_MODE    0.694330\n",
      "NONLIVINGAPARTMENTS_AVG     0.694330\n",
      "FONDKAPREMONT_MODE          0.683862\n",
      "LIVINGAPARTMENTS_AVG        0.683550\n",
      "LIVINGAPARTMENTS_MEDI       0.683550\n",
      "LIVINGAPARTMENTS_MODE       0.683550\n",
      "dtype: float64\n"
     ]
    }
   ],
   "source": [
    "missing_fraction = df.isnull().mean().sort_values(ascending=False)\n",
    "print(\"Top columns with missing values:\\n\", missing_fraction.head(10))"
   ]
  },
  {
   "cell_type": "code",
   "execution_count": 24,
   "id": "7cf1d289-8e79-4fc0-9b19-47e816aa917d",
   "metadata": {},
   "outputs": [],
   "source": [
    "threshold = 0.5\n",
    "cols_to_drop = missing_fraction[missing_fraction > threshold].index\n",
    "df_cleaned = df.drop(columns=cols_to_drop)"
   ]
  },
  {
   "cell_type": "code",
   "execution_count": 25,
   "id": "0e7724fc-1bf3-40e5-80df-b366104fa0b8",
   "metadata": {},
   "outputs": [],
   "source": [
    "num_cols = df_cleaned.select_dtypes(include='number').columns\n",
    "df_cleaned[num_cols] = df_cleaned[num_cols].fillna(df_cleaned[num_cols].median())\n",
    "\n",
    "# For categorical columns, fill with mode\n",
    "cat_cols = df_cleaned.select_dtypes(include='object').columns\n",
    "df_cleaned[cat_cols] = df_cleaned[cat_cols].apply(lambda col: col.fillna(col.mode()[0]))"
   ]
  },
  {
   "cell_type": "code",
   "execution_count": null,
   "id": "cc8e5f25-de48-4bd9-b7bc-6471e80e6c0f",
   "metadata": {},
   "outputs": [],
   "source": []
  }
 ],
 "metadata": {
  "kernelspec": {
   "display_name": "Python 3 (ipykernel)",
   "language": "python",
   "name": "python3"
  },
  "language_info": {
   "codemirror_mode": {
    "name": "ipython",
    "version": 3
   },
   "file_extension": ".py",
   "mimetype": "text/x-python",
   "name": "python",
   "nbconvert_exporter": "python",
   "pygments_lexer": "ipython3",
   "version": "3.13.2"
  }
 },
 "nbformat": 4,
 "nbformat_minor": 5
}
