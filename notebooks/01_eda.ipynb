{
 "cells": [
  {
   "cell_type": "code",
   "execution_count": 18,
   "id": "1aa47b36-9b30-439e-85ea-59e5fc7b6622",
   "metadata": {
    "scrolled": true
   },
   "outputs": [],
   "source": [
    "import pandas as pd\n",
    "df = pd.read_csv(\"../data/application_train.csv\")\n",
    "\n",
    "\n",
    "\n"
   ]
  },
  {
   "cell_type": "code",
   "execution_count": 21,
   "id": "3b2e23b2-0f65-41ff-b282-7fdf6c7074e0",
   "metadata": {},
   "outputs": [
    {
     "name": "stdout",
     "output_type": "stream",
     "text": [
      "Top columns with missing values:\n",
      " COMMONAREA_AVG              0.698723\n",
      "COMMONAREA_MODE             0.698723\n",
      "COMMONAREA_MEDI             0.698723\n",
      "NONLIVINGAPARTMENTS_MEDI    0.694330\n",
      "NONLIVINGAPARTMENTS_MODE    0.694330\n",
      "NONLIVINGAPARTMENTS_AVG     0.694330\n",
      "FONDKAPREMONT_MODE          0.683862\n",
      "LIVINGAPARTMENTS_AVG        0.683550\n",
      "LIVINGAPARTMENTS_MEDI       0.683550\n",
      "LIVINGAPARTMENTS_MODE       0.683550\n",
      "dtype: float64\n"
     ]
    }
   ],
   "source": [
    "missing_fraction = df.isnull().mean().sort_values(ascending=False)\n",
    "print(\"Top columns with missing values:\\n\", missing_fraction.head(10))"
   ]
  },
  {
   "cell_type": "code",
   "execution_count": 24,
   "id": "7cf1d289-8e79-4fc0-9b19-47e816aa917d",
   "metadata": {},
   "outputs": [],
   "source": [
    "threshold = 0.5\n",
    "cols_to_drop = missing_fraction[missing_fraction > threshold].index\n",
    "df_cleaned = df.drop(columns=cols_to_drop)"
   ]
  },
  {
   "cell_type": "code",
   "execution_count": 25,
   "id": "0e7724fc-1bf3-40e5-80df-b366104fa0b8",
   "metadata": {},
   "outputs": [],
   "source": [
    "num_cols = df_cleaned.select_dtypes(include='number').columns\n",
    "df_cleaned[num_cols] = df_cleaned[num_cols].fillna(df_cleaned[num_cols].median())\n",
    "\n",
    "# For categorical columns, fill with mode\n",
    "cat_cols = df_cleaned.select_dtypes(include='object').columns\n",
    "df_cleaned[cat_cols] = df_cleaned[cat_cols].apply(lambda col: col.fillna(col.mode()[0]))"
   ]
  },
  {
   "cell_type": "code",
   "execution_count": 26,
   "id": "cc8e5f25-de48-4bd9-b7bc-6471e80e6c0f",
   "metadata": {},
   "outputs": [
    {
     "name": "stdout",
     "output_type": "stream",
     "text": [
      "Shape after cleaning: (307511, 81)\n",
      "Any nulls left? False\n"
     ]
    }
   ],
   "source": [
    "print(\"Shape after cleaning:\", df_cleaned.shape)\n",
    "print(\"Any nulls left?\", df_cleaned.isnull().any().any())"
   ]
  },
  {
   "cell_type": "code",
   "execution_count": 27,
   "id": "d043ec44-74f5-41a6-a626-306f5c00a928",
   "metadata": {},
   "outputs": [],
   "source": [
    "df_cleaned.to_csv(\"application_train_cleaned.csv\", index=False)"
   ]
  },
  {
   "cell_type": "code",
   "execution_count": 28,
   "id": "efa9b4a8-6060-476e-9c2f-8fb26873412f",
   "metadata": {},
   "outputs": [
    {
     "data": {
      "text/plain": [
       "TARGET\n",
       "0    0.919271\n",
       "1    0.080729\n",
       "Name: proportion, dtype: float64"
      ]
     },
     "execution_count": 28,
     "metadata": {},
     "output_type": "execute_result"
    }
   ],
   "source": [
    "df['TARGET'].value_counts(normalize=True)\n"
   ]
  },
  {
   "cell_type": "code",
   "execution_count": 29,
   "id": "b5a69e60-dd09-437a-8c47-a2d8c3285f23",
   "metadata": {},
   "outputs": [
    {
     "data": {
      "text/plain": [
       "(EXT_SOURCE_3                 -0.178919\n",
       " EXT_SOURCE_2                 -0.160472\n",
       " EXT_SOURCE_1                 -0.155317\n",
       " DAYS_EMPLOYED                -0.044932\n",
       " FLOORSMAX_AVG                -0.044003\n",
       " FLOORSMAX_MEDI               -0.043768\n",
       " FLOORSMAX_MODE               -0.043226\n",
       " AMT_GOODS_PRICE              -0.039645\n",
       " REGION_POPULATION_RELATIVE   -0.037227\n",
       " ELEVATORS_AVG                -0.034199\n",
       " Name: TARGET, dtype: float64,\n",
       " FLAG_DOCUMENT_3                0.044346\n",
       " REG_CITY_NOT_LIVE_CITY         0.044395\n",
       " FLAG_EMP_PHONE                 0.045982\n",
       " REG_CITY_NOT_WORK_CITY         0.050994\n",
       " DAYS_ID_PUBLISH                0.051457\n",
       " DAYS_LAST_PHONE_CHANGE         0.055218\n",
       " REGION_RATING_CLIENT           0.058899\n",
       " REGION_RATING_CLIENT_W_CITY    0.060893\n",
       " DAYS_BIRTH                     0.078239\n",
       " TARGET                         1.000000\n",
       " Name: TARGET, dtype: float64)"
      ]
     },
     "execution_count": 29,
     "metadata": {},
     "output_type": "execute_result"
    }
   ],
   "source": [
    "corr = df.corr(numeric_only=True)['TARGET'].sort_values()\n",
    "corr.head(10), corr.tail(10)\n"
   ]
  },
  {
   "cell_type": "code",
   "execution_count": 30,
   "id": "41a253f9-67b3-4c56-8b9e-1463a00a0a5a",
   "metadata": {},
   "outputs": [
    {
     "name": "stdout",
     "output_type": "stream",
     "text": [
      "Top-10 features: ['EXT_SOURCE_3', 'EXT_SOURCE_2', 'EXT_SOURCE_1', 'DAYS_BIRTH', 'REGION_RATING_CLIENT_W_CITY', 'REGION_RATING_CLIENT', 'DAYS_LAST_PHONE_CHANGE', 'DAYS_ID_PUBLISH', 'REG_CITY_NOT_WORK_CITY', 'FLAG_EMP_PHONE']\n"
     ]
    }
   ],
   "source": [
    "corr_target = df.corr(numeric_only=True)['TARGET'].drop('TARGET')\n",
    "top10 = corr_target.abs().sort_values(ascending=False).head(10).index.tolist()\n",
    "print(\"Top-10 features:\", top10)"
   ]
  },
  {
   "cell_type": "code",
   "execution_count": null,
   "id": "bb95ee22-b8b1-45fb-8188-b39022094aa8",
   "metadata": {},
   "outputs": [],
   "source": []
  }
 ],
 "metadata": {
  "kernelspec": {
   "display_name": "Python 3 (ipykernel)",
   "language": "python",
   "name": "python3"
  },
  "language_info": {
   "codemirror_mode": {
    "name": "ipython",
    "version": 3
   },
   "file_extension": ".py",
   "mimetype": "text/x-python",
   "name": "python",
   "nbconvert_exporter": "python",
   "pygments_lexer": "ipython3",
   "version": "3.13.2"
  }
 },
 "nbformat": 4,
 "nbformat_minor": 5
}
